{
 "cells": [
  {
   "cell_type": "code",
   "execution_count": 1,
   "metadata": {},
   "outputs": [],
   "source": [
    "%matplotlib widget"
   ]
  },
  {
   "cell_type": "code",
   "execution_count": 2,
   "metadata": {},
   "outputs": [],
   "source": [
    "import numpy as np\n",
    "import matplotlib.pyplot as plt\n",
    "import scipy\n",
    "\n",
    "from beamforming import construct_slowness_grid, construct_times_beamforming, precompute_A, CMTM, noise_space_projection\n"
   ]
  },
  {
   "cell_type": "code",
   "execution_count": 3,
   "metadata": {},
   "outputs": [
    {
     "name": "stdout",
     "output_type": "stream",
     "text": [
      "(100,)\n",
      "(1, 600)\n"
     ]
    }
   ],
   "source": [
    "\n",
    "\n",
    "Ntheta, Nslow = 30, 20  # Resolution of the slowness grid\n",
    "vmin, vmax = 500, 10_000  # Velocity range of slowness grid\n",
    "theta = np.linspace(0, 2 * np.pi, Ntheta)  # Azimuthal range of slowness grid\n",
    "\n",
    "\"\"\" Generate random receiver locations (replace with DAS UTM coords) \"\"\"\n",
    "RNG = np.random.default_rng(42)\n",
    "Nch = 100  # Number of receivers\n",
    "x, y = RNG.uniform(-10, 10, size=(2, Nch))  # x/y are in the same units of distance as vmin/vmax\n",
    "print(x.shape)\n",
    "\n",
    "\"\"\" Generate random data (replace with DAS data) \"\"\"\n",
    "samp = 100.\n",
    "Nt = 1024\n",
    "data = RNG.normal(size=(Nch, Nt))\n",
    "\n",
    "\"\"\" Select frequency band \"\"\"\n",
    "freq_band = (1.0, 2.0)  # 1-2 Hz. Must be a narrow range, but not too narrow...\n",
    "NFFT = 2**int(np.log2(Nt) + 1) + 1  # Don't mess with this...\n",
    "freqs = scipy.fft.rfftfreq(n=2*NFFT, d=1/samp)\n",
    "inds = (freqs >= freq_band[0]) & (freqs < freq_band[1])\n",
    "freqs_select = freqs[inds]\n",
    "\n",
    "\"\"\" Initialise beamformer \"\"\"\n",
    "# Slowness in x/y, and velocity grid\n",
    "Sx, Sy, v_grid = construct_slowness_grid(theta, vmin, vmax, Nslow)\n",
    "Sx = Sx.ravel().reshape((1, -1))\n",
    "Sy = Sy.ravel().reshape((1, -1))\n",
    "print(Sx.shape)\n",
    "# Differential times\n",
    "dt = construct_times_beamforming(x, y, Sx, Sy)\n",
    "# Steering vectors\n",
    "A = precompute_A(dt, freqs_select)"
   ]
  },
  {
   "cell_type": "code",
   "execution_count": 4,
   "metadata": {},
   "outputs": [
    {
     "name": "stderr",
     "output_type": "stream",
     "text": [
      "OMP: Info #276: omp_set_nested routine deprecated, please use omp_set_max_active_levels instead.\n"
     ]
    }
   ],
   "source": [
    "\"\"\" Compute covariance matrix \"\"\"\n",
    "Nw = 3  # Number of tapers\n",
    "Cxy = CMTM(data, Nw=Nw, freq_band=freq_band, fsamp=samp)\n",
    "\n",
    "\"\"\" Compute beampower \"\"\"\n",
    "Pr = noise_space_projection(Cxy, A, sources=1)\n",
    "P = 1.0 / Pr"
   ]
  },
  {
   "cell_type": "code",
   "execution_count": 5,
   "metadata": {},
   "outputs": [],
   "source": [
    "P2 = P.reshape((Nslow, Ntheta))\n",
    "\n"
   ]
  }
 ],
 "metadata": {
  "kernelspec": {
   "display_name": "py311",
   "language": "python",
   "name": "python3"
  },
  "language_info": {
   "codemirror_mode": {
    "name": "ipython",
    "version": 3
   },
   "file_extension": ".py",
   "mimetype": "text/x-python",
   "name": "python",
   "nbconvert_exporter": "python",
   "pygments_lexer": "ipython3",
   "version": "3.10.9"
  },
  "orig_nbformat": 4
 },
 "nbformat": 4,
 "nbformat_minor": 2
}
